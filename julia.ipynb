{
 "cells": [
  {
   "cell_type": "code",
   "execution_count": null,
   "metadata": {},
   "outputs": [],
   "source": [
    "text = \"dd.asxc.dsdc\"\n",
    "rsplit(text, \".\")"
   ]
  },
  {
   "cell_type": "code",
   "execution_count": null,
   "metadata": {},
   "outputs": [],
   "source": [
    "println(\"a\")"
   ]
  },
  {
   "cell_type": "code",
   "execution_count": null,
   "metadata": {},
   "outputs": [],
   "source": []
  },
  {
   "cell_type": "code",
   "execution_count": null,
   "metadata": {},
   "outputs": [],
   "source": []
  },
  {
   "cell_type": "code",
   "execution_count": null,
   "metadata": {
    "ExecuteTime": {
     "end_time": "2022-04-15T10:12:33.891000+09:00",
     "start_time": "2022-04-15T01:12:04.708Z"
    }
   },
   "outputs": [],
   "source": [
    "using Pkg\n",
    "\n",
    "Pkg.add(\"CSV\")\n",
    "Pkg.add(\"XLSX\")\n",
    "Pkg.add(\"DataFrames\")"
   ]
  },
  {
   "cell_type": "code",
   "execution_count": null,
   "metadata": {
    "ExecuteTime": {
     "end_time": "2022-04-15T10:40:19.834000+09:00",
     "start_time": "2022-04-15T01:40:18.431Z"
    }
   },
   "outputs": [],
   "source": [
    "using CSV, XLSX, DataFrames"
   ]
  },
  {
   "cell_type": "code",
   "execution_count": null,
   "metadata": {
    "ExecuteTime": {
     "end_time": "2022-04-15T10:31:34.333000+09:00",
     "start_time": "2022-04-15T01:31:34.327Z"
    }
   },
   "outputs": [],
   "source": [
    "xf = XLSX.readxlsx(\"D:/부의.xlsx\")\n",
    "XLSX.sheetnames(xf)\n",
    "sh = xf[\"Sheet1\"]"
   ]
  },
  {
   "cell_type": "code",
   "execution_count": null,
   "metadata": {
    "ExecuteTime": {
     "end_time": "2022-04-15T10:31:37.767000+09:00",
     "start_time": "2022-04-15T01:31:37.203Z"
    }
   },
   "outputs": [],
   "source": [
    "sh[:]"
   ]
  },
  {
   "cell_type": "code",
   "execution_count": null,
   "metadata": {
    "ExecuteTime": {
     "end_time": "2022-04-15T10:44:58.954000+09:00",
     "start_time": "2022-04-15T01:44:58.815Z"
    }
   },
   "outputs": [],
   "source": [
    "df = DataFrame(XLSX.readtable(\"D:/계정별명세서조회_20220128_원가명세서(최종).xlsx\", \"sheet1\", infer_eltypes=true)...)"
   ]
  },
  {
   "cell_type": "code",
   "execution_count": null,
   "metadata": {
    "ExecuteTime": {
     "end_time": "2022-04-15T10:45:05.855000+09:00",
     "start_time": "2022-04-15T01:45:05.742Z"
    }
   },
   "outputs": [],
   "source": [
    "jm = XLSX.readdata(\"D:/계정별명세서조회_20220128_원가명세서(최종).xlsx\", \"sheet1!B1:E30\")"
   ]
  },
  {
   "cell_type": "code",
   "execution_count": null,
   "metadata": {
    "ExecuteTime": {
     "end_time": "2022-04-15T13:56:57.697000+09:00",
     "start_time": "2022-04-15T04:47:40.084Z"
    }
   },
   "outputs": [],
   "source": [
    "using Pkg\n",
    "\n",
    "Pkg.add(\"Plots\")\n",
    "Pkg.add(\"PyPlot\")\n",
    "using PyPlot, Plots"
   ]
  },
  {
   "cell_type": "code",
   "execution_count": null,
   "metadata": {
    "ExecuteTime": {
     "end_time": "2022-04-15T13:57:04.743000+09:00",
     "start_time": "2022-04-15T04:49:08.040Z"
    }
   },
   "outputs": [],
   "source": [
    "scatter([(1,4),(2,5),(3,6)], markersize=[5,6,7], markercolor=[\"red\",\"green\",\"blue\"], legend=false)"
   ]
  }
 ],
 "metadata": {
  "interpreter": {
   "hash": "f30673e3c08f0f598ac3fdb4dac72440e72dcf5cd0cf54b6649ab7bf6757a76e"
  },
  "kernelspec": {
   "display_name": "Julia 1.7.2",
   "language": "julia",
   "name": "julia-1.7"
  },
  "language_info": {
   "file_extension": ".jl",
   "mimetype": "application/julia",
   "name": "julia",
   "version": "1.7.2"
  },
  "toc": {
   "base_numbering": 1,
   "nav_menu": {},
   "number_sections": true,
   "sideBar": true,
   "skip_h1_title": false,
   "title_cell": "Table of Contents",
   "title_sidebar": "Contents",
   "toc_cell": false,
   "toc_position": {},
   "toc_section_display": true,
   "toc_window_display": false
  }
 },
 "nbformat": 4,
 "nbformat_minor": 2
}
